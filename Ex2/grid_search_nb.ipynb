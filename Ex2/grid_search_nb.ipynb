{
 "cells": [
  {
   "cell_type": "code",
   "execution_count": 1,
   "metadata": {
    "ExecuteTime": {
     "end_time": "2023-12-18T18:11:00.848168600Z",
     "start_time": "2023-12-18T18:11:00.583269500Z"
    }
   },
   "outputs": [],
   "source": [
    "import pandas as pd\n",
    "import warnings"
   ]
  },
  {
   "cell_type": "code",
   "execution_count": 9,
   "metadata": {},
   "outputs": [],
   "source": [
    "#Load the data\n",
    "breast_data = pd.read_csv(\"../datasets/BreastCancer/breast-cancer-diagnostic.shuf.lrn.csv\")\n",
    "#Drop ID\n",
    "breast_data.pop(\"ID\")\n",
    "#Extract the label\n",
    "X = breast_data.copy(deep=True)\n",
    "y = X.pop(\"class\")"
   ]
  },
  {
   "cell_type": "code",
   "execution_count": 7,
   "metadata": {},
   "outputs": [],
   "source": [
    "loan_data = pd.read_csv(\"../datasets/Loan/loan-10k.lrn.csv\")\n",
    "loan_data.pop(\"ID\")\n",
    "X = loan_data.copy(deep=True)\n",
    "y = X.pop(\"grade\")"
   ]
  },
  {
   "cell_type": "code",
   "execution_count": 8,
   "metadata": {},
   "outputs": [],
   "source": [
    "params = {\n",
    "    \"nr_hidden_layers\": list(range(1, 4)),\n",
    "    \"nr_neurons\": [32, 64, 128],\n",
    "    \"activation\": [\"tanh\", \"relu\", \"logistic\", \"identity\"],\n",
    "    \"solver\": [\"adam\", \"lbfgs\", \"sgd\"],\n",
    "}"
   ]
  },
  {
   "cell_type": "code",
   "execution_count": 10,
   "metadata": {},
   "outputs": [
    {
     "name": "stdout",
     "output_type": "stream",
     "text": [
      "Found new best parameters: (32,), tanh, adam\n",
      "Found new best parameters: (32,), relu, lbfgs\n"
     ]
    }
   ],
   "source": [
    "from grid_search import GridSearchMLP\n",
    "gs = GridSearchMLP(params=params)\n",
    "with warnings.catch_warnings():\n",
    "    warnings.simplefilter(\"ignore\")\n",
    "    gs.find_params(X, y)"
   ]
  },
  {
   "cell_type": "code",
   "execution_count": 1,
   "metadata": {},
   "outputs": [
    {
     "ename": "NameError",
     "evalue": "name 'gs' is not defined",
     "output_type": "error",
     "traceback": [
      "\u001B[0;31m---------------------------------------------------------------------------\u001B[0m",
      "\u001B[0;31mNameError\u001B[0m                                 Traceback (most recent call last)",
      "Cell \u001B[0;32mIn[1], line 1\u001B[0m\n\u001B[0;32m----> 1\u001B[0m \u001B[43mgs\u001B[49m\u001B[38;5;241m.\u001B[39mbest_params\n",
      "\u001B[0;31mNameError\u001B[0m: name 'gs' is not defined"
     ]
    }
   ],
   "source": [
    "gs.best_params"
   ]
  }
 ],
 "metadata": {
  "kernelspec": {
   "display_name": ".venv",
   "language": "python",
   "name": "python3"
  },
  "language_info": {
   "codemirror_mode": {
    "name": "ipython",
    "version": 3
   },
   "file_extension": ".py",
   "mimetype": "text/x-python",
   "name": "python",
   "nbconvert_exporter": "python",
   "pygments_lexer": "ipython3",
   "version": "3.11.3"
  }
 },
 "nbformat": 4,
 "nbformat_minor": 2
}
