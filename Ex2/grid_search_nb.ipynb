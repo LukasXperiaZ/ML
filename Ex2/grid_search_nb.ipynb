{
 "cells": [
  {
   "cell_type": "code",
   "execution_count": 8,
   "metadata": {},
   "outputs": [],
   "source": [
    "import pandas as pd\n",
    "import warnings"
   ]
  },
  {
   "cell_type": "code",
   "execution_count": 9,
   "metadata": {},
   "outputs": [],
   "source": [
    "#Load the data\n",
    "breast_data = pd.read_csv(\"../datasets/BreastCancer/breast-cancer-diagnostic.shuf.lrn.csv\")\n",
    "#Drop ID\n",
    "breast_data.pop(\"ID\")\n",
    "#Extract the label\n",
    "X = breast_data.copy(deep=True)\n",
    "y = X.pop(\"class\")"
   ]
  },
  {
   "cell_type": "code",
   "execution_count": 10,
   "metadata": {},
   "outputs": [],
   "source": [
    "params = {\n",
    "    \"nr_hidden_layers\": list(range(1, 4)),\n",
    "    \"nr_neurons\": [32, 64, 128],\n",
    "    \"activation\": [\"tanh\", \"relu\", \"logistic\", \"identity\"],\n",
    "    \"solver\": [\"adam\", \"lbfgs\", \"sgd\"],\n",
    "}"
   ]
  },
  {
   "cell_type": "code",
   "execution_count": 11,
   "metadata": {},
   "outputs": [
    {
     "name": "stdout",
     "output_type": "stream",
     "text": [
      "Found new best parameters: (32,), tanh, adam\n",
      "Found new best parameters: (64, 32), identity, sgd\n"
     ]
    }
   ],
   "source": [
    "from grid_search import GridSearchMLP\n",
    "gs = GridSearchMLP(params=params)\n",
    "with warnings.catch_warnings():\n",
    "    warnings.simplefilter(\"ignore\")\n",
    "    gs.fit(X, y)"
   ]
  },
  {
   "cell_type": "code",
   "execution_count": 7,
   "metadata": {},
   "outputs": [
    {
     "data": {
      "text/plain": [
       "{'hidden_layer_sizes': (32, 128), 'activation': 'tanh', 'solver': 'adam'}"
      ]
     },
     "execution_count": 7,
     "metadata": {},
     "output_type": "execute_result"
    }
   ],
   "source": [
    "gs.best_params"
   ]
  }
 ],
 "metadata": {
  "kernelspec": {
   "display_name": ".venv",
   "language": "python",
   "name": "python3"
  },
  "language_info": {
   "codemirror_mode": {
    "name": "ipython",
    "version": 3
   },
   "file_extension": ".py",
   "mimetype": "text/x-python",
   "name": "python",
   "nbconvert_exporter": "python",
   "pygments_lexer": "ipython3",
   "version": "3.11.3"
  }
 },
 "nbformat": 4,
 "nbformat_minor": 2
}
